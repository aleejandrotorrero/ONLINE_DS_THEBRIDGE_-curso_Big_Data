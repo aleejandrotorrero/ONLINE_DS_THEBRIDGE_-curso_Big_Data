{
 "cells": [
  {
   "cell_type": "code",
   "execution_count": 1,
   "id": "f2ef9650-9918-4fde-acf0-d47d3710fba7",
   "metadata": {},
   "outputs": [
    {
     "name": "stdout",
     "output_type": "stream",
     "text": [
      "Hola Mundo\n"
     ]
    }
   ],
   "source": [
    "print(\"Hola Mundo\")"
   ]
  },
  {
   "cell_type": "markdown",
   "id": "dca40841-7122-4613-9993-4346110f9645",
   "metadata": {},
   "source": [
    "Hola Mundo"
   ]
  },
  {
   "cell_type": "markdown",
   "id": "3438124c-ab4e-4921-89d0-912bc8761996",
   "metadata": {},
   "source": []
  }
 ],
 "metadata": {
  "kernelspec": {
   "display_name": "Python 3 (ipykernel)",
   "language": "python",
   "name": "python3"
  },
  "language_info": {
   "codemirror_mode": {
    "name": "ipython",
    "version": 3
   },
   "file_extension": ".py",
   "mimetype": "text/x-python",
   "name": "python",
   "nbconvert_exporter": "python",
   "pygments_lexer": "ipython3",
   "version": "3.13.5"
  }
 },
 "nbformat": 4,
 "nbformat_minor": 5
}
